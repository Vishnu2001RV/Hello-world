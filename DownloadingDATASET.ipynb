{
  "nbformat": 4,
  "nbformat_minor": 0,
  "metadata": {
    "colab": {
      "name": "DownloadingDATASET.ipynb",
      "provenance": [],
      "collapsed_sections": [],
      "include_colab_link": true
    },
    "kernelspec": {
      "name": "python3",
      "display_name": "Python 3"
    },
    "accelerator": "GPU"
  },
  "cells": [
    {
      "cell_type": "markdown",
      "metadata": {
        "id": "view-in-github",
        "colab_type": "text"
      },
      "source": [
        "<a href=\"https://colab.research.google.com/github/Vishnu2001RV/Hello-world/blob/master/DownloadingDATASET.ipynb\" target=\"_parent\"><img src=\"https://colab.research.google.com/assets/colab-badge.svg\" alt=\"Open In Colab\"/></a>"
      ]
    },
    {
      "cell_type": "code",
      "metadata": {
        "id": "j5JYxr9Tgt8v",
        "colab_type": "code",
        "colab": {}
      },
      "source": [
        "from google.colab import drive\n",
        "drive.mount('/content/drive')\n",
        "\n",
        "\n",
        "from google.colab import files\n",
        "files.upload() #this will prompt you to update the json\n",
        "\n",
        "!pip install -q kaggle\n",
        "!mkdir -p ~/.kaggle\n",
        "!cp kaggle.json ~/.kaggle/\n",
        "!ls ~/.kaggle\n",
        "!chmod 600 /root/.kaggle/kaggle.json  # set permission\n",
        "!kaggle datasets download -d karakaggle/kaggle-cat-vs-dog-dataset -p /content#instructions are given in the notes\n",
        "!unzip /content/kaggle-cat-vs-dog-dataset -d /content/dataset#always the same but with slight difference\n"
      ],
      "execution_count": 0,
      "outputs": []
    },
    {
      "cell_type": "code",
      "metadata": {
        "id": "uRTPKCw8eDOf",
        "colab_type": "code",
        "colab": {}
      },
      "source": [
        "!rm -rf dataset"
      ],
      "execution_count": 0,
      "outputs": []
    },
    {
      "cell_type": "markdown",
      "metadata": {
        "id": "hZvElBybeRlE",
        "colab_type": "text"
      },
      "source": [
        "# New Section\n",
        "!rm -rf folder_name  \n",
        "This is done to delete  a particular folder\n"
      ]
    }
  ]
}